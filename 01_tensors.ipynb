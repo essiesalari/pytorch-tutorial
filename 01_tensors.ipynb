{
 "cells": [
  {
   "cell_type": "code",
   "execution_count": 1,
   "id": "b77f9320-aa8d-4469-857c-0c814962adae",
   "metadata": {},
   "outputs": [],
   "source": [
    "import torch"
   ]
  },
  {
   "attachments": {
    "923c9bbf-8e9f-425b-8358-0b096a8442dc.png": {
     "image/png": "[encoded data removed]"
    }
   },
   "cell_type": "markdown",
   "id": "2bfd5f60-a434-4a90-8152-14a89d6f1706",
   "metadata": {},
   "source": [
    "# Tensors\n",
    "https://pytorch.org/tutorials/beginner/basics/tensorqs_tutorial.html\n",
    "> تانسورها یک ساختار داده ویژه هستند که بسیار شبیه به آرایه‌ها و ماتریس‌ها هستند.\n",
    "\n",
    "> از تانسورها برای رمزگذاری ورودی‌ها و خروجی‌های یک مدل، و همچنین پارامترهای مدل استفاده می‌شود\n",
    "\n",
    "> تانسورها به طور مشابهی به آرایه‌های چندبعدی نام پای هستند، با این تفاوت که تانسورها قابلیت اجرا روی  کارت گرافیک ها یا سایر شتاب‌دهنده‌های سخت‌افزاری را دارند\n",
    "---\n",
    "### Matrix example\n",
    "![image.png](attachment:923c9bbf-8e9f-425b-8358-0b096a8442dc.png)"
   ]
  },
  {
   "cell_type": "code",
   "execution_count": 2,
   "id": "49144224-7f09-4922-bda2-800089a95a5f",
   "metadata": {
    "tags": []
   },
   "outputs": [
    {
     "data": {
      "text/plain": [
       "[[1, 2], [3, 4], [5, 6]]"
      ]
     },
     "execution_count": 2,
     "metadata": {},
     "output_type": "execute_result"
    }
   ],
   "source": [
    "data = [[1, 2],[3, 4],[5,6]]\n",
    "data"
   ]
  },
  {
   "cell_type": "markdown",
   "id": "f19583d1-e04f-4cbb-aeb0-9adf031ecb44",
   "metadata": {},
   "source": [
    "---\n",
    "---\n",
    "# Initializing a Tensor\n",
    "### 1- Directly from data"
   ]
  },
  {
   "cell_type": "code",
   "execution_count": 3,
   "id": "1fffa4e0-c64a-441a-a782-5914180a697b",
   "metadata": {
    "tags": []
   },
   "outputs": [
    {
     "data": {
      "text/plain": [
       "tensor([[1, 2],\n",
       "        [3, 4],\n",
       "        [5, 6]])"
      ]
     },
     "execution_count": 3,
     "metadata": {},
     "output_type": "execute_result"
    }
   ],
   "source": [
    "torch.tensor(data)"
   ]
  },
  {
   "cell_type": "markdown",
   "id": "1c192a73-0422-4a77-b01f-e67b5458c583",
   "metadata": {
    "tags": []
   },
   "source": [
    "### 2-From a NumPy array"
   ]
  },
  {
   "cell_type": "code",
   "execution_count": 4,
   "id": "b24d0291-cfe2-47ee-b8ee-6c7b822cb40b",
   "metadata": {
    "tags": []
   },
   "outputs": [
    {
     "data": {
      "text/plain": [
       "array([[1, 2],\n",
       "       [3, 4],\n",
       "       [5, 6]])"
      ]
     },
     "execution_count": 4,
     "metadata": {},
     "output_type": "execute_result"
    }
   ],
   "source": [
    "import numpy as np\n",
    "np_array = np.array(data)\n",
    "np_array"
   ]
  },
  {
   "cell_type": "code",
   "execution_count": 5,
   "id": "70084378-7e53-41f0-98e3-1ad782502cc6",
   "metadata": {
    "tags": []
   },
   "outputs": [
    {
     "data": {
      "text/plain": [
       "tensor([[1, 2],\n",
       "        [3, 4],\n",
       "        [5, 6]])"
      ]
     },
     "execution_count": 5,
     "metadata": {},
     "output_type": "execute_result"
    }
   ],
   "source": [
    "#convert a numpy array to a pytorch tensor\n",
    "torch.from_numpy(np_array)"
   ]
  },
  {
   "cell_type": "markdown",
   "id": "8d91c955-8c90-4c8b-aed7-cb1c99171113",
   "metadata": {},
   "source": [
    "### 3- With random or constant values:\n",
    "\n",
    "> * torch.zeros(2,3,)\n",
    "> * torch.ones(2,3,)\n",
    "> * torch.rand(2,3,)"
   ]
  },
  {
   "cell_type": "code",
   "execution_count": 6,
   "id": "53770fb8-3e6d-4125-b1f2-a9078e5e84fc",
   "metadata": {
    "tags": []
   },
   "outputs": [
    {
     "name": "stdout",
     "output_type": "stream",
     "text": [
      "tensor([[0., 0., 0., 0., 0.],\n",
      "        [0., 0., 0., 0., 0.],\n",
      "        [0., 0., 0., 0., 0.]], dtype=torch.float16) torch.float16\n"
     ]
    }
   ],
   "source": [
    "x = torch.zeros(3,5, dtype=torch.float16)\n",
    "print(x, x.dtype) "
   ]
  },
  {
   "cell_type": "markdown",
   "id": "fc7c84c8-88c4-48cf-afed-5c674413860e",
   "metadata": {},
   "source": [
    "### float\n",
    "• Float16 stores 4 decimal digits and the max is about 32,000.\n",
    "\n",
    "• Float32 stores 8 decimal digits and the max is about  10**38\n",
    "\n",
    "• Float64 stores 16 decimal digits and the max is about  10**307"
   ]
  },
  {
   "cell_type": "code",
   "execution_count": 7,
   "id": "b2b5889d-7041-463e-b829-d6c3794f979a",
   "metadata": {
    "tags": []
   },
   "outputs": [
    {
     "name": "stdout",
     "output_type": "stream",
     "text": [
      "tensor([[[1., 1., 1., 1., 1.],\n",
      "         [1., 1., 1., 1., 1.],\n",
      "         [1., 1., 1., 1., 1.]],\n",
      "\n",
      "        [[1., 1., 1., 1., 1.],\n",
      "         [1., 1., 1., 1., 1.],\n",
      "         [1., 1., 1., 1., 1.]],\n",
      "\n",
      "        [[1., 1., 1., 1., 1.],\n",
      "         [1., 1., 1., 1., 1.],\n",
      "         [1., 1., 1., 1., 1.]]]) torch.float32\n"
     ]
    }
   ],
   "source": [
    "x = torch.ones(3,3,5)\n",
    "print(x, x.dtype)"
   ]
  },
  {
   "cell_type": "code",
   "execution_count": 8,
   "id": "52ac4feb-8abc-4fb3-ae05-de6301b18461",
   "metadata": {
    "tags": []
   },
   "outputs": [
    {
     "name": "stdout",
     "output_type": "stream",
     "text": [
      "tensor([[[0.7094, 0.3856, 0.8122, 0.1001, 0.9024],\n",
      "         [0.0017, 0.9468, 0.8737, 0.8501, 0.0494],\n",
      "         [0.2031, 0.3732, 0.6829, 0.2683, 0.8226]],\n",
      "\n",
      "        [[0.2352, 0.7009, 0.5244, 0.5143, 0.5696],\n",
      "         [0.2455, 0.9092, 0.9234, 0.7435, 0.4915],\n",
      "         [0.9211, 0.5124, 0.3882, 0.2917, 0.3608]],\n",
      "\n",
      "        [[0.6756, 0.5485, 0.7006, 0.0975, 0.4660],\n",
      "         [0.8276, 0.8404, 0.8408, 0.1047, 0.3421],\n",
      "         [0.4303, 0.4327, 0.9729, 0.8628, 0.2783]]]) torch.float32\n"
     ]
    }
   ],
   "source": [
    "x = torch.rand(3,3,5)\n",
    "print(x, x.dtype)"
   ]
  },
  {
   "cell_type": "code",
   "execution_count": 9,
   "id": "83fc1993-3224-42d7-91eb-6e087ceeb949",
   "metadata": {},
   "outputs": [
    {
     "data": {
      "text/plain": [
       "tensor([[0.7094, 0.3856, 0.8122, 0.1001, 0.9024],\n",
       "        [0.0017, 0.9468, 0.8737, 0.8501, 0.0494],\n",
       "        [0.2031, 0.3732, 0.6829, 0.2683, 0.8226]])"
      ]
     },
     "execution_count": 9,
     "metadata": {},
     "output_type": "execute_result"
    }
   ],
   "source": [
    "x[0]"
   ]
  },
  {
   "cell_type": "code",
   "execution_count": 10,
   "id": "0018a8e7-4e8c-4de4-a52a-cd79dbc2bfa9",
   "metadata": {
    "tags": []
   },
   "outputs": [
    {
     "name": "stdout",
     "output_type": "stream",
     "text": [
      "tensor([1, 2, 3, 4]) torch.int64\n"
     ]
    }
   ],
   "source": [
    "x = torch.tensor([1,2,3,4])\n",
    "print(x , x.dtype)"
   ]
  },
  {
   "cell_type": "code",
   "execution_count": 11,
   "id": "474723b4-fef5-421b-b99a-a46f64051982",
   "metadata": {},
   "outputs": [
    {
     "name": "stdout",
     "output_type": "stream",
     "text": [
      "tensor([2, 4, 6, 8]) torch.int64\n"
     ]
    }
   ],
   "source": [
    "y = (2*x)\n",
    "print(y , y.dtype)"
   ]
  },
  {
   "cell_type": "code",
   "execution_count": 12,
   "id": "8ad11d19-b9e2-4185-8921-e4c96574bec1",
   "metadata": {
    "tags": []
   },
   "outputs": [
    {
     "data": {
      "text/plain": [
       "tensor([-2., -4., -6., -8.])"
      ]
     },
     "execution_count": 12,
     "metadata": {},
     "output_type": "execute_result"
    }
   ],
   "source": [
    "((0.0 * x) - y)"
   ]
  },
  {
   "cell_type": "code",
   "execution_count": 13,
   "id": "7b19c233-09a5-4224-9a3e-393357094cea",
   "metadata": {},
   "outputs": [
    {
     "data": {
      "text/plain": [
       "torch.float32"
      ]
     },
     "execution_count": 13,
     "metadata": {},
     "output_type": "execute_result"
    }
   ],
   "source": [
    "((0.0 * x) - y).dtype"
   ]
  },
  {
   "cell_type": "markdown",
   "id": "11b95fda-baed-4f09-bb6c-d53626c04b4c",
   "metadata": {},
   "source": [
    "# Attributes of a Tensor\n",
    ">Tensor attributes describe their shape, datatype, and the device on which they are stored.\n",
    "\n"
   ]
  },
  {
   "cell_type": "code",
   "execution_count": 14,
   "id": "50fd2e67-ca5b-450b-baf5-fca45f48ca6e",
   "metadata": {
    "tags": []
   },
   "outputs": [
    {
     "name": "stdout",
     "output_type": "stream",
     "text": [
      "tensor([[1, 2],\n",
      "        [3, 4],\n",
      "        [5, 6]])\n",
      "------------------------------\n",
      "Shape   : torch.Size([3, 2])\n",
      "Datatype: torch.int64\n",
      "Device  : cpu\n"
     ]
    }
   ],
   "source": [
    "tensor = torch.tensor(data)\n",
    "print(tensor)\n",
    "print('-'*30)\n",
    "print(f\"Shape   : {tensor.shape}\")\n",
    "print(f\"Datatype: {tensor.dtype}\")\n",
    "print(f\"Device  : {tensor.device}\")"
   ]
  },
  {
   "cell_type": "markdown",
   "id": "d63b8a6d-acae-4b4f-81fb-739cb3cc490c",
   "metadata": {
    "tags": []
   },
   "source": [
    "# Operations on Tensors\n",
    "\n",
    ">به طور پیش‌فرض، تانسورها بر روی واحد پردازش مرکزی سی پی یو ایجاد می‌شوند. ما نیاز داریم که به صراحت تانسورها را به واحد پردازش گرافیکی منتقل کنیم با استفاده از \n",
    "\n",
    ">> .to(\"cuda\")"
   ]
  },
  {
   "cell_type": "code",
   "execution_count": 15,
   "id": "c5b91df8-f307-4260-8e59-3162086c5689",
   "metadata": {
    "tags": []
   },
   "outputs": [],
   "source": [
    "# We move our tensor to the GPU if available\n",
    "if torch.cuda.is_available():\n",
    "    tensor = tensor.to(\"cuda\")"
   ]
  },
  {
   "cell_type": "markdown",
   "id": "9916a4c0-f52f-464a-b1fb-325f80fb2ebc",
   "metadata": {},
   "source": [
    "### 1- Indexing & Slicing:\n",
    "\n"
   ]
  },
  {
   "cell_type": "code",
   "execution_count": 16,
   "id": "bf6bee0b-56c4-44b8-951f-e583b80d229e",
   "metadata": {
    "tags": []
   },
   "outputs": [
    {
     "name": "stdout",
     "output_type": "stream",
     "text": [
      "tensor([[0.8396, 0.6821, 0.9487, 0.1661],\n",
      "        [0.4952, 0.2138, 0.2889, 0.5567],\n",
      "        [0.6711, 0.0511, 0.0763, 0.6163],\n",
      "        [0.8796, 0.3714, 0.6680, 0.7559]])\n",
      "--------------------------------------------------\n",
      "First row   : tensor([0.8396, 0.6821, 0.9487, 0.1661])\n",
      "First column: tensor([0.8396, 0.4952, 0.6711, 0.8796])\n",
      "Last  column: tensor([0.1661, 0.5567, 0.6163, 0.7559])\n",
      "--------------------------------------------------\n",
      "tensor([[0.8396, 0.0000, 0.9487, 0.1661],\n",
      "        [0.4952, 0.0000, 0.2889, 0.5567],\n",
      "        [0.6711, 0.0000, 0.0763, 0.6163],\n",
      "        [0.8796, 0.0000, 0.6680, 0.7559]])\n"
     ]
    }
   ],
   "source": [
    "tensor = torch.rand(4, 4)\n",
    "print(tensor)\n",
    "print('-' * 50)\n",
    "print(f\"First row   : {tensor[0]}\")\n",
    "print(f\"First column: {tensor[ : , 0]}\")\n",
    "print(f\"Last  column: {tensor[..., -1]}\")\n",
    "print('-' * 50)\n",
    "tensor[:,1] = 0\n",
    "print(tensor)"
   ]
  },
  {
   "cell_type": "markdown",
   "id": "c70fdd79-e946-4095-a09b-a6c69245495a",
   "metadata": {},
   "source": [
    "### 2- Joining tensors\n",
    ">* torch.cat\n",
    ">* torch.stack"
   ]
  },
  {
   "cell_type": "code",
   "execution_count": 17,
   "id": "80583f53-4711-4555-8fb7-fe82c946989b",
   "metadata": {
    "tags": []
   },
   "outputs": [
    {
     "name": "stdout",
     "output_type": "stream",
     "text": [
      "tensor([[1, 1],\n",
      "        [2, 2],\n",
      "        [3, 3]]) torch.Size([3, 2])\n"
     ]
    }
   ],
   "source": [
    "tensor = torch.tensor([[1, 1],[2, 2],[3,3]])\n",
    "print(tensor,tensor.shape)"
   ]
  },
  {
   "cell_type": "code",
   "execution_count": 18,
   "id": "f4f98961-e368-4012-af0f-d72245cf9079",
   "metadata": {},
   "outputs": [
    {
     "name": "stdout",
     "output_type": "stream",
     "text": [
      "tensor([[1, 1, 1, 1, 1, 1],\n",
      "        [2, 2, 2, 2, 2, 2],\n",
      "        [3, 3, 3, 3, 3, 3]]) torch.Size([3, 6])\n"
     ]
    }
   ],
   "source": [
    "t1 = torch.cat([tensor, tensor, tensor], dim=1)\n",
    "print(t1,t1.shape)"
   ]
  },
  {
   "cell_type": "code",
   "execution_count": 19,
   "id": "da0f06ad-5dfd-46ea-b2c8-f0b4d64a38ca",
   "metadata": {},
   "outputs": [
    {
     "name": "stdout",
     "output_type": "stream",
     "text": [
      "tensor([[1, 1],\n",
      "        [2, 2],\n",
      "        [3, 3],\n",
      "        [1, 1],\n",
      "        [2, 2],\n",
      "        [3, 3],\n",
      "        [1, 1],\n",
      "        [2, 2],\n",
      "        [3, 3]]) torch.Size([9, 2])\n"
     ]
    }
   ],
   "source": [
    "t1 = torch.cat([tensor, tensor, tensor], dim=0)\n",
    "print(t1,t1.shape)"
   ]
  },
  {
   "cell_type": "code",
   "execution_count": 20,
   "id": "96b7d827-f282-4424-98bd-61ed954b3400",
   "metadata": {
    "tags": []
   },
   "outputs": [
    {
     "name": "stdout",
     "output_type": "stream",
     "text": [
      "tensor([[[1, 1],\n",
      "         [2, 2],\n",
      "         [3, 3]],\n",
      "\n",
      "        [[1, 1],\n",
      "         [2, 2],\n",
      "         [3, 3]],\n",
      "\n",
      "        [[1, 1],\n",
      "         [2, 2],\n",
      "         [3, 3]]]) torch.Size([3, 3, 2])\n"
     ]
    }
   ],
   "source": [
    "t1 = torch.stack([tensor, tensor, tensor])\n",
    "print(t1,t1.shape)"
   ]
  },
  {
   "attachments": {
    "4f96a375-363c-4477-a80d-d09b295658a6.png": {
     "image/png": "[encoded data removed]"
    },
    "99075be3-3669-4901-8989-21afd3762e1e.png": {
     "image/png": "[encoded data removed]"
    }
   },
   "cell_type": "markdown",
   "id": "fb0f29fc-8836-41c4-88f0-0635395c706a",
   "metadata": {},
   "source": [
    "### 3- Matrix Operations\n",
    ">* Transpose of a tensor -----> tensor.T\n",
    ">> ![image.png](attachment:99075be3-3669-4901-8989-21afd3762e1e.png) \n",
    ">* matrix multiplication -----> tensor.matmul( tensor2 )\n",
    ">* matrix multiplication -----> tensor @ tensor2\n",
    ">> ![image.png](attachment:4f96a375-363c-4477-a80d-d09b295658a6.png) \n",
    ">* element-wise multiplication  ----> tensor.mul( tensor2 )"
   ]
  },
  {
   "cell_type": "code",
   "execution_count": 21,
   "id": "44dc3695-3597-4938-b56f-049f40a53d6c",
   "metadata": {
    "tags": []
   },
   "outputs": [
    {
     "data": {
      "text/plain": [
       "tensor([[1., 1.],\n",
       "        [2., 2.],\n",
       "        [3., 3.]])"
      ]
     },
     "execution_count": 21,
     "metadata": {},
     "output_type": "execute_result"
    }
   ],
   "source": [
    "tensor = torch.Tensor([[1,1],[2,2],[3,3]])\n",
    "tensor"
   ]
  },
  {
   "cell_type": "code",
   "execution_count": 22,
   "id": "8bc5d0f9-0241-4833-9907-d3c748345962",
   "metadata": {
    "tags": []
   },
   "outputs": [
    {
     "data": {
      "text/plain": [
       "tensor([[1., 2., 3.],\n",
       "        [1., 2., 3.]])"
      ]
     },
     "execution_count": 22,
     "metadata": {},
     "output_type": "execute_result"
    }
   ],
   "source": [
    "#Transpose\n",
    "tensor.T"
   ]
  },
  {
   "cell_type": "code",
   "execution_count": 23,
   "id": "45da9e34-57ef-4802-925f-265174f7691e",
   "metadata": {
    "tags": []
   },
   "outputs": [
    {
     "data": {
      "text/plain": [
       "tensor([[14., 14.],\n",
       "        [14., 14.]])"
      ]
     },
     "execution_count": 23,
     "metadata": {},
     "output_type": "execute_result"
    }
   ],
   "source": [
    "tensor.T @ tensor "
   ]
  },
  {
   "attachments": {
    "59427029-90bd-497b-b29d-846e2a4d6590.png": {
     "image/png": "[encoded data removed]"
    }
   },
   "cell_type": "markdown",
   "id": "2873fd67-b634-441d-a132-f81a8b82f25b",
   "metadata": {},
   "source": [
    "![image.png](attachment:59427029-90bd-497b-b29d-846e2a4d6590.png) "
   ]
  },
  {
   "cell_type": "code",
   "execution_count": 24,
   "id": "80933007-d2c0-42a7-aa90-7b6a111e25ec",
   "metadata": {
    "tags": []
   },
   "outputs": [
    {
     "data": {
      "text/plain": [
       "tensor([[14., 14.],\n",
       "        [14., 14.]])"
      ]
     },
     "execution_count": 24,
     "metadata": {},
     "output_type": "execute_result"
    }
   ],
   "source": [
    "(tensor.T).matmul(tensor)"
   ]
  },
  {
   "cell_type": "code",
   "execution_count": 25,
   "id": "3c9c56ec-ce58-4179-b06d-8b4eca090bcf",
   "metadata": {},
   "outputs": [
    {
     "data": {
      "text/plain": [
       "tensor([[1., 1.],\n",
       "        [2., 2.],\n",
       "        [3., 3.]])"
      ]
     },
     "execution_count": 25,
     "metadata": {},
     "output_type": "execute_result"
    }
   ],
   "source": [
    "tensor"
   ]
  },
  {
   "cell_type": "code",
   "execution_count": 26,
   "id": "21b858f1-52b6-44b5-bdc1-7e7a6ffa0e75",
   "metadata": {
    "tags": []
   },
   "outputs": [
    {
     "data": {
      "text/plain": [
       "tensor([[1., 1.],\n",
       "        [4., 4.],\n",
       "        [9., 9.]])"
      ]
     },
     "execution_count": 26,
     "metadata": {},
     "output_type": "execute_result"
    }
   ],
   "source": [
    "tensor * tensor"
   ]
  },
  {
   "cell_type": "code",
   "execution_count": 27,
   "id": "a03e7b99-7e1a-4072-816e-1792d17dd013",
   "metadata": {
    "tags": []
   },
   "outputs": [
    {
     "data": {
      "text/plain": [
       "tensor([[1., 1.],\n",
       "        [4., 4.],\n",
       "        [9., 9.]])"
      ]
     },
     "execution_count": 27,
     "metadata": {},
     "output_type": "execute_result"
    }
   ],
   "source": [
    "tensor.mul(tensor)"
   ]
  },
  {
   "cell_type": "code",
   "execution_count": 28,
   "id": "9a3e2c98-d617-4160-b046-1253f240b98f",
   "metadata": {
    "tags": []
   },
   "outputs": [
    {
     "data": {
      "text/plain": [
       "tensor([[2., 2.],\n",
       "        [4., 4.],\n",
       "        [6., 6.]])"
      ]
     },
     "execution_count": 28,
     "metadata": {},
     "output_type": "execute_result"
    }
   ],
   "source": [
    "x = tensor + tensor\n",
    "x"
   ]
  },
  {
   "cell_type": "code",
   "execution_count": 29,
   "id": "c1dfe624-af4f-4cdb-926d-5e388f6712e8",
   "metadata": {
    "tags": []
   },
   "outputs": [
    {
     "data": {
      "text/plain": [
       "tensor([[-2., -2.],\n",
       "        [-4., -4.],\n",
       "        [-6., -6.]])"
      ]
     },
     "execution_count": 29,
     "metadata": {},
     "output_type": "execute_result"
    }
   ],
   "source": [
    "y = tensor - (tensor * 3)\n",
    "y"
   ]
  },
  {
   "cell_type": "code",
   "execution_count": 30,
   "id": "a97f5570-1395-4ff1-ad31-5a1f640a185a",
   "metadata": {
    "tags": []
   },
   "outputs": [
    {
     "data": {
      "text/plain": [
       "tensor([[-1., -1.],\n",
       "        [-1., -1.],\n",
       "        [-1., -1.]])"
      ]
     },
     "execution_count": 30,
     "metadata": {},
     "output_type": "execute_result"
    }
   ],
   "source": [
    "x/y"
   ]
  },
  {
   "cell_type": "code",
   "execution_count": 31,
   "id": "8772b72a-f654-45ba-b0d5-f9a25f02b746",
   "metadata": {
    "tags": []
   },
   "outputs": [
    {
     "data": {
      "text/plain": [
       "tensor([[ -4.,  -4.],\n",
       "        [-16., -16.],\n",
       "        [-36., -36.]])"
      ]
     },
     "execution_count": 31,
     "metadata": {},
     "output_type": "execute_result"
    }
   ],
   "source": [
    "z = x*y\n",
    "z"
   ]
  },
  {
   "cell_type": "code",
   "execution_count": 32,
   "id": "27349c4c-dc0a-4937-8e30-837a31fc7467",
   "metadata": {
    "tags": []
   },
   "outputs": [
    {
     "data": {
      "text/plain": [
       "tensor([-16., -16.])"
      ]
     },
     "execution_count": 32,
     "metadata": {},
     "output_type": "execute_result"
    }
   ],
   "source": [
    "z[1]"
   ]
  },
  {
   "cell_type": "code",
   "execution_count": 33,
   "id": "e5fe63e1-1da6-404e-8821-93ed91b978ab",
   "metadata": {
    "tags": []
   },
   "outputs": [
    {
     "data": {
      "text/plain": [
       "tensor(-36.)"
      ]
     },
     "execution_count": 33,
     "metadata": {},
     "output_type": "execute_result"
    }
   ],
   "source": [
    "# Single-element tensors\n",
    "z[2,1]"
   ]
  },
  {
   "cell_type": "markdown",
   "id": "abdd14b9-1f47-4a58-9f85-aeaabfc6b079",
   "metadata": {
    "tags": []
   },
   "source": [
    "### Getting value of Single-element tensors\n",
    "    tensor.item()"
   ]
  },
  {
   "cell_type": "code",
   "execution_count": 34,
   "id": "d0424721-ed96-43ee-829d-cd49b0d977b7",
   "metadata": {
    "tags": []
   },
   "outputs": [
    {
     "data": {
      "text/plain": [
       "-36.0"
      ]
     },
     "execution_count": 34,
     "metadata": {},
     "output_type": "execute_result"
    }
   ],
   "source": [
    "z[2,1].item()"
   ]
  },
  {
   "cell_type": "markdown",
   "id": "1c42100f-9f2e-4dd7-8b5d-6efa085dd31a",
   "metadata": {},
   "source": [
    "---\n",
    "---\n",
    "## In-place operations  \n",
    ">Operations that store the result into the operand are called in-place. \n",
    "\n",
    ">*They are denoted by a _ suffix*.\n",
    "\n",
    ">For example: \n",
    "    **x.copy_(y)**, **x.t_()**, will change x."
   ]
  },
  {
   "cell_type": "code",
   "execution_count": 35,
   "id": "8c77dfe0-8758-46c2-a47d-023098c8e560",
   "metadata": {
    "tags": []
   },
   "outputs": [
    {
     "name": "stdout",
     "output_type": "stream",
     "text": [
      "tensor([[1., 1.],\n",
      "        [2., 2.],\n",
      "        [3., 3.]])\n",
      "--------------------\n",
      "tensor([[6., 6.],\n",
      "        [7., 7.],\n",
      "        [8., 8.]])\n"
     ]
    }
   ],
   "source": [
    "print(tensor)\n",
    "tensor.add_(5)\n",
    "print('-'*20)\n",
    "print(tensor)"
   ]
  },
  {
   "cell_type": "markdown",
   "id": "2947e42a-dd48-4e8e-9ca6-8bb653af55c5",
   "metadata": {},
   "source": [
    "***\n",
    "---\n",
    "## TENSOR VIEWS\n",
    ">PyTorch allows a tensor to be a View of an existing tensor"
   ]
  },
  {
   "cell_type": "code",
   "execution_count": 36,
   "id": "4438013c-71db-4a66-be09-100b2bc82cc2",
   "metadata": {
    "tags": []
   },
   "outputs": [
    {
     "data": {
      "text/plain": [
       "tensor([[0.7012, 0.1008, 0.0441, 0.6550],\n",
       "        [0.9156, 0.6959, 0.0210, 0.5877],\n",
       "        [0.7592, 0.3352, 0.9511, 0.1719],\n",
       "        [0.2484, 0.2939, 0.4389, 0.1433],\n",
       "        [0.1594, 0.6942, 0.4060, 0.6516]])"
      ]
     },
     "execution_count": 36,
     "metadata": {},
     "output_type": "execute_result"
    }
   ],
   "source": [
    "w = torch.rand(5,4)\n",
    "w"
   ]
  },
  {
   "cell_type": "code",
   "execution_count": 37,
   "id": "7fc97d80-32d1-4e8a-8109-ca03589f1cc5",
   "metadata": {
    "tags": []
   },
   "outputs": [
    {
     "data": {
      "text/plain": [
       "tensor([[0.7012, 0.1008, 0.0441, 0.6550, 0.9156],\n",
       "        [0.6959, 0.0210, 0.5877, 0.7592, 0.3352],\n",
       "        [0.9511, 0.1719, 0.2484, 0.2939, 0.4389],\n",
       "        [0.1433, 0.1594, 0.6942, 0.4060, 0.6516]])"
      ]
     },
     "execution_count": 37,
     "metadata": {},
     "output_type": "execute_result"
    }
   ],
   "source": [
    "w.view(4,5)"
   ]
  },
  {
   "cell_type": "code",
   "execution_count": 38,
   "id": "402c534b-5f3e-41a9-a695-d48af3a685c4",
   "metadata": {
    "tags": []
   },
   "outputs": [
    {
     "data": {
      "text/plain": [
       "tensor([[0.7012, 0.1008],\n",
       "        [0.0441, 0.6550],\n",
       "        [0.9156, 0.6959],\n",
       "        [0.0210, 0.5877],\n",
       "        [0.7592, 0.3352],\n",
       "        [0.9511, 0.1719],\n",
       "        [0.2484, 0.2939],\n",
       "        [0.4389, 0.1433],\n",
       "        [0.1594, 0.6942],\n",
       "        [0.4060, 0.6516]])"
      ]
     },
     "execution_count": 38,
     "metadata": {},
     "output_type": "execute_result"
    }
   ],
   "source": [
    "w.view(10,2)"
   ]
  },
  {
   "cell_type": "code",
   "execution_count": null,
   "id": "4a8461a5-3329-4e1d-84ad-369f97dbceee",
   "metadata": {},
   "outputs": [],
   "source": []
  }
 ],
 "metadata": {
  "kernelspec": {
   "display_name": "Python 3 (ipykernel)",
   "language": "python",
   "name": "python3"
  },
  "language_info": {
   "codemirror_mode": {
    "name": "ipython",
    "version": 3
   },
   "file_extension": ".py",
   "mimetype": "text/x-python",
   "name": "python",
   "nbconvert_exporter": "python",
   "pygments_lexer": "ipython3",
   "version": "3.11.7"
  }
 },
 "nbformat": 4,
 "nbformat_minor": 5
}
